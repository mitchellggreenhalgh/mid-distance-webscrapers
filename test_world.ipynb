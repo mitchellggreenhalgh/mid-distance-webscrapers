{
 "cells": [
  {
   "cell_type": "code",
   "execution_count": 36,
   "metadata": {},
   "outputs": [],
   "source": [
    "import pandas as pd"
   ]
  },
  {
   "cell_type": "code",
   "execution_count": 37,
   "metadata": {},
   "outputs": [
    {
     "data": {
      "text/plain": [
       "'time_400 + time_1600'"
      ]
     },
     "execution_count": 37,
     "metadata": {},
     "output_type": "execute_result"
    }
   ],
   "source": [
    "other_events = [400, 1600]\n",
    "events_str = list(map(str, other_events))\n",
    "\n",
    "event_list = ' + '.join(['time_' + str(event) for event in other_events])\n",
    "\n",
    "event_list"
   ]
  },
  {
   "cell_type": "code",
   "execution_count": 38,
   "metadata": {},
   "outputs": [
    {
     "data": {
      "text/plain": [
       "(['0:53.88', '4:18.44'], ['400', '1600'])"
      ]
     },
     "execution_count": 38,
     "metadata": {},
     "output_type": "execute_result"
    }
   ],
   "source": [
    "times = ['0:53.88', '4:18.44']\n",
    "times, events_str"
   ]
  },
  {
   "cell_type": "code",
   "execution_count": 41,
   "metadata": {},
   "outputs": [
    {
     "data": {
      "text/plain": [
       "(53.88, 242.2875)"
      ]
     },
     "execution_count": 41,
     "metadata": {},
     "output_type": "execute_result"
    }
   ],
   "source": [
    "time_1_sec = float(times[0].split(':')[0]) * 60 + float(times[0].split(':')[1])\n",
    "time_2_sec = float(times[1].split(':')[0]) * 60 + float(times[1].split(':')[1])\n",
    "\n",
    "# Add 1600m and Mile conversions to 1500m\n",
    "if str(events_str[0]) == '1600':\n",
    "    time_1_sec = time_1_sec * 0.9375\n",
    "elif str(events_str[0]) == 'mile':\n",
    "    time_1_sec = time_1_sec * 0.93205678835\n",
    "\n",
    "if str(events_str[1]) == '1600':\n",
    "    time_2_sec = time_2_sec * 0.9375\n",
    "elif str(events_str[1]) == 'mile':\n",
    "    time_2_sec = time_2_sec * 0.93205678835\n",
    "\n",
    "time_1_sec, time_2_sec"
   ]
  },
  {
   "cell_type": "code",
   "execution_count": 42,
   "metadata": {},
   "outputs": [
    {
     "data": {
      "text/plain": [
       "'800m Prediction: 116.88 seconds'"
      ]
     },
     "execution_count": 42,
     "metadata": {},
     "output_type": "execute_result"
    }
   ],
   "source": [
    "beta_0 = -16.475036\n",
    "beta_1 = 1.191303\n",
    "beta_2 = 0.285481\n",
    "\n",
    "outcome_event = 800\n",
    "\n",
    "f'{outcome_event}m Prediction: {round(beta_0 + beta_1 * time_1_sec + beta_2 * time_2_sec, 2)} seconds'"
   ]
  }
 ],
 "metadata": {
  "kernelspec": {
   "display_name": "webpy",
   "language": "python",
   "name": "python3"
  },
  "language_info": {
   "codemirror_mode": {
    "name": "ipython",
    "version": 3
   },
   "file_extension": ".py",
   "mimetype": "text/x-python",
   "name": "python",
   "nbconvert_exporter": "python",
   "pygments_lexer": "ipython3",
   "version": "3.11.8"
  }
 },
 "nbformat": 4,
 "nbformat_minor": 2
}
